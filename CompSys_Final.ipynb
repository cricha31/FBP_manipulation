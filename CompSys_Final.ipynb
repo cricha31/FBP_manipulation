{
 "cells": [
  {
   "cell_type": "code",
   "execution_count": 1,
   "id": "c86cd7da-b76b-4607-b83e-92ccf3ba0a08",
   "metadata": {},
   "outputs": [
    {
     "name": "stdin",
     "output_type": "stream",
     "text": [
      "Once deleted, variables cannot be recovered. Proceed (y/[n])?  y\n"
     ]
    }
   ],
   "source": [
    "%reset"
   ]
  },
  {
   "cell_type": "code",
   "execution_count": 2,
   "id": "0383890e-2b3c-4c75-b4ac-49b8e80e5c8a",
   "metadata": {},
   "outputs": [
    {
     "name": "stdout",
     "output_type": "stream",
     "text": [
      "Gene name: FBP1, Gene ID: 2203_AT1\n"
     ]
    }
   ],
   "source": [
    "import cobra\n",
    "import numpy as np\n",
    "import pandas as pd\n",
    "import matplotlib.pyplot as plt\n",
    "\n",
    "# Load Recon 3D model\n",
    "model = cobra.io.read_sbml_model(\"Recon3D.xml\")\n",
    "\n",
    "\n",
    "# Define a function to find model gene IDs based on gene names\n",
    "def find_gene_id_by_name(model, gene_name):\n",
    "    for gene in model.genes:\n",
    "        if gene.name == gene_name:\n",
    "            return gene.id\n",
    "    return None\n",
    "\n",
    "# Example: Find the model gene ID for a gene name\n",
    "gene_name = \"FBP1\"  \n",
    "gene_id = find_gene_id_by_name(model, gene_name)\n",
    "if gene_id:\n",
    "    print(f\"Gene name: {gene_name}, Gene ID: {gene_id}\")\n",
    "else:\n",
    "    print(f\"Gene name {gene_name} not found in the model.\")"
   ]
  },
  {
   "cell_type": "code",
   "execution_count": 3,
   "id": "4e92dd3b-6932-4450-a348-c483be94e064",
   "metadata": {},
   "outputs": [],
   "source": [
    "solution = model.optimize()  \n",
    "#solution = cobra.flux_analysis.parsimonious.pfba(model)"
   ]
  },
  {
   "cell_type": "code",
   "execution_count": 6,
   "id": "8722b1e3-dbd9-40cb-a41e-b188ff3f224f",
   "metadata": {},
   "outputs": [
    {
     "data": {
      "text/html": [
       "<strong><em>Optimal</em> solution with objective value 755.003</strong><br><div>\n",
       "<style scoped>\n",
       "    .dataframe tbody tr th:only-of-type {\n",
       "        vertical-align: middle;\n",
       "    }\n",
       "\n",
       "    .dataframe tbody tr th {\n",
       "        vertical-align: top;\n",
       "    }\n",
       "\n",
       "    .dataframe thead th {\n",
       "        text-align: right;\n",
       "    }\n",
       "</style>\n",
       "<table border=\"1\" class=\"dataframe\">\n",
       "  <thead>\n",
       "    <tr style=\"text-align: right;\">\n",
       "      <th></th>\n",
       "      <th>fluxes</th>\n",
       "      <th>reduced_costs</th>\n",
       "    </tr>\n",
       "  </thead>\n",
       "  <tbody>\n",
       "    <tr>\n",
       "      <th>24_25DHVITD3tm</th>\n",
       "      <td>0.0</td>\n",
       "      <td>0.000000e+00</td>\n",
       "    </tr>\n",
       "    <tr>\n",
       "      <th>25HVITD3t</th>\n",
       "      <td>0.0</td>\n",
       "      <td>0.000000e+00</td>\n",
       "    </tr>\n",
       "    <tr>\n",
       "      <th>COAtl</th>\n",
       "      <td>0.0</td>\n",
       "      <td>0.000000e+00</td>\n",
       "    </tr>\n",
       "    <tr>\n",
       "      <th>EX_5adtststerone_e</th>\n",
       "      <td>0.0</td>\n",
       "      <td>0.000000e+00</td>\n",
       "    </tr>\n",
       "    <tr>\n",
       "      <th>EX_5adtststerones_e</th>\n",
       "      <td>0.0</td>\n",
       "      <td>0.000000e+00</td>\n",
       "    </tr>\n",
       "    <tr>\n",
       "      <th>...</th>\n",
       "      <td>...</td>\n",
       "      <td>...</td>\n",
       "    </tr>\n",
       "    <tr>\n",
       "      <th>ACMPGLUTTRsc</th>\n",
       "      <td>0.0</td>\n",
       "      <td>2.088971e-18</td>\n",
       "    </tr>\n",
       "    <tr>\n",
       "      <th>FVSCOAhc</th>\n",
       "      <td>0.0</td>\n",
       "      <td>-9.638339e-02</td>\n",
       "    </tr>\n",
       "    <tr>\n",
       "      <th>MDZGLChr</th>\n",
       "      <td>0.0</td>\n",
       "      <td>0.000000e+00</td>\n",
       "    </tr>\n",
       "    <tr>\n",
       "      <th>TMACMPhr</th>\n",
       "      <td>0.0</td>\n",
       "      <td>2.389416e-17</td>\n",
       "    </tr>\n",
       "    <tr>\n",
       "      <th>CYSACMPitr</th>\n",
       "      <td>0.0</td>\n",
       "      <td>0.000000e+00</td>\n",
       "    </tr>\n",
       "  </tbody>\n",
       "</table>\n",
       "<p>10600 rows × 2 columns</p>\n",
       "</div>"
      ],
      "text/plain": [
       "<Solution 755.003 at 0x140e68ec070>"
      ]
     },
     "execution_count": 6,
     "metadata": {},
     "output_type": "execute_result"
    }
   ],
   "source": [
    "solution    # shows normal flux of entire system as well as individual fluxes (gives sum of all fluzes now)"
   ]
  },
  {
   "cell_type": "code",
   "execution_count": 7,
   "id": "1069c532-d15e-4fca-9659-7dbae6455247",
   "metadata": {},
   "outputs": [
    {
     "data": {
      "text/plain": [
       "0.0"
      ]
     },
     "execution_count": 7,
     "metadata": {},
     "output_type": "execute_result"
    }
   ],
   "source": [
    "solution.fluxes['FBP']"
   ]
  },
  {
   "cell_type": "code",
   "execution_count": 8,
   "id": "a52ae804-cf59-4de8-a21d-8d5acd127a7a",
   "metadata": {},
   "outputs": [],
   "source": [
    "# changing the lower bound \n",
    "with model as model1:\n",
    "    model1.reactions.get_by_id('FBP').lower_bound=-100\n",
    "    solution_bounds = model1.optimize()\n",
    "    #solution_bounds = cobra.flux_analysis.parsimonious.pfba(model1)"
   ]
  },
  {
   "cell_type": "code",
   "execution_count": 9,
   "id": "3ec4e57e-81fd-474c-bb8f-750df086dd7e",
   "metadata": {},
   "outputs": [
    {
     "data": {
      "text/plain": [
       "-100.0"
      ]
     },
     "execution_count": 9,
     "metadata": {},
     "output_type": "execute_result"
    }
   ],
   "source": [
    "solution_bounds.fluxes['FBP']"
   ]
  },
  {
   "cell_type": "code",
   "execution_count": 26,
   "id": "3fed9a06-2f05-496d-87f3-53b66135a231",
   "metadata": {},
   "outputs": [
    {
     "data": {
      "text/html": [
       "<strong><em>Optimal</em> solution with objective value 758.618</strong><br><div>\n",
       "<style scoped>\n",
       "    .dataframe tbody tr th:only-of-type {\n",
       "        vertical-align: middle;\n",
       "    }\n",
       "\n",
       "    .dataframe tbody tr th {\n",
       "        vertical-align: top;\n",
       "    }\n",
       "\n",
       "    .dataframe thead th {\n",
       "        text-align: right;\n",
       "    }\n",
       "</style>\n",
       "<table border=\"1\" class=\"dataframe\">\n",
       "  <thead>\n",
       "    <tr style=\"text-align: right;\">\n",
       "      <th></th>\n",
       "      <th>fluxes</th>\n",
       "      <th>reduced_costs</th>\n",
       "    </tr>\n",
       "  </thead>\n",
       "  <tbody>\n",
       "    <tr>\n",
       "      <th>24_25DHVITD3tm</th>\n",
       "      <td>0.0</td>\n",
       "      <td>0.000000e+00</td>\n",
       "    </tr>\n",
       "    <tr>\n",
       "      <th>25HVITD3t</th>\n",
       "      <td>0.0</td>\n",
       "      <td>0.000000e+00</td>\n",
       "    </tr>\n",
       "    <tr>\n",
       "      <th>COAtl</th>\n",
       "      <td>0.0</td>\n",
       "      <td>0.000000e+00</td>\n",
       "    </tr>\n",
       "    <tr>\n",
       "      <th>EX_5adtststerone_e</th>\n",
       "      <td>0.0</td>\n",
       "      <td>0.000000e+00</td>\n",
       "    </tr>\n",
       "    <tr>\n",
       "      <th>EX_5adtststerones_e</th>\n",
       "      <td>0.0</td>\n",
       "      <td>0.000000e+00</td>\n",
       "    </tr>\n",
       "    <tr>\n",
       "      <th>...</th>\n",
       "      <td>...</td>\n",
       "      <td>...</td>\n",
       "    </tr>\n",
       "    <tr>\n",
       "      <th>ACMPGLUTTRsc</th>\n",
       "      <td>0.0</td>\n",
       "      <td>2.832207e-33</td>\n",
       "    </tr>\n",
       "    <tr>\n",
       "      <th>FVSCOAhc</th>\n",
       "      <td>0.0</td>\n",
       "      <td>-9.638339e-02</td>\n",
       "    </tr>\n",
       "    <tr>\n",
       "      <th>MDZGLChr</th>\n",
       "      <td>0.0</td>\n",
       "      <td>0.000000e+00</td>\n",
       "    </tr>\n",
       "    <tr>\n",
       "      <th>TMACMPhr</th>\n",
       "      <td>0.0</td>\n",
       "      <td>-8.301280e-18</td>\n",
       "    </tr>\n",
       "    <tr>\n",
       "      <th>CYSACMPitr</th>\n",
       "      <td>0.0</td>\n",
       "      <td>0.000000e+00</td>\n",
       "    </tr>\n",
       "  </tbody>\n",
       "</table>\n",
       "<p>10600 rows × 2 columns</p>\n",
       "</div>"
      ],
      "text/plain": [
       "<Solution 758.618 at 0x140a25708e0>"
      ]
     },
     "execution_count": 26,
     "metadata": {},
     "output_type": "execute_result"
    }
   ],
   "source": [
    "solution_bounds"
   ]
  },
  {
   "cell_type": "code",
   "execution_count": 10,
   "id": "f2d12fe9-01fa-4792-aa1a-14fc03080cb8",
   "metadata": {},
   "outputs": [],
   "source": [
    "# compare solution now with flux through FBP at -100 \n",
    "flux_ind = solution.fluxes.index \n",
    "dif = np.zeros(len(flux_ind))\n",
    "for i,idx in enumerate(flux_ind):\n",
    "    dif[i] = solution_bounds.fluxes[idx] - solution.fluxes[idx] \n"
   ]
  },
  {
   "cell_type": "code",
   "execution_count": 11,
   "id": "d7c1405e-0054-4e2e-a723-27d3199d515c",
   "metadata": {},
   "outputs": [],
   "source": [
    "sorted_ind = np.argsort(-1 * np.abs(dif))"
   ]
  },
  {
   "cell_type": "code",
   "execution_count": 25,
   "id": "705124ce-db88-4b47-9e99-cd488787bf90",
   "metadata": {},
   "outputs": [
    {
     "name": "stdout",
     "output_type": "stream",
     "text": [
      "-221.4903243960851 ALR3\n",
      "-221.4903243960851 ALR2\n",
      "221.4903243960851 LCARS\n",
      "-221.49032439608507 ALCD22_L\n",
      "154.70732734445653 GULN3D\n",
      "154.70732734445642 DGULND\n",
      "154.70732734445642 EX_xylu__L_e\n",
      "154.70732734445642 XYLULte\n",
      "154.70732734445642 GULND\n",
      "-154.70732734445608 EX_glcur_e\n",
      "154.70732734445608 GLCURtr\n",
      "150.49732021648583 HMR_7749\n",
      "-150.49732021648583 HMR_7748\n",
      "122.36836921691545 G3PD1irm\n",
      "-122.36836921691544 DHAPtm\n",
      "-122.36836921691541 GLYC3Ptm\n",
      "-117.21654370356868 SK_arg__L_c\n",
      "-114.1081658307753 GLCt1\n",
      "114.04496483287716 GLCt2_2\n",
      "-100.0 FBP\n",
      "-97.08209535730333 UROLACer\n",
      "-97.08209535730333 GULLACter\n",
      "97.08209535730333 GLACter\n",
      "97.08209535730333 GLNLASEer\n",
      "97.08209535730327 GLRASE\n",
      "97.08209535730305 GULNDer\n",
      "90.75884530769002 OAAt_1\n",
      "90.75884530769 EX_oaa_e\n",
      "90.71181503292104 AKGCITtm\n",
      "90.71181503292064 r0915\n",
      "90.71181503292064 r2375\n"
     ]
    }
   ],
   "source": [
    "for i in range(len(sorted_ind)):\n",
    "    if np.abs(dif[sorted_ind[i]]) > 90:\n",
    "        print(dif[sorted_ind[i]],flux_ind[sorted_ind[i]])\n",
    "        \n",
    "    \n",
    "    "
   ]
  },
  {
   "cell_type": "code",
   "execution_count": 27,
   "id": "4919d98e-2437-4dda-b322-4852cf633cf3",
   "metadata": {},
   "outputs": [
    {
     "data": {
      "image/png": "[encoded data removed]",
      "text/plain": [
       "<Figure size 640x480 with 1 Axes>"
      ]
     },
     "metadata": {},
     "output_type": "display_data"
    }
   ],
   "source": [
    "names = []\n",
    "values = []\n",
    "for i in range(len(sorted_ind)):\n",
    "    if np.abs(dif[sorted_ind[i]]) > 90:\n",
    "        names.append(flux_ind[sorted_ind[i]])\n",
    "        values.append(dif[sorted_ind[i]])\n",
    "# Plot\n",
    "plt.bar(names, values)\n",
    "\n",
    "# Title and labels for graph \n",
    "plt.xlabel('Metabolic Reactions')\n",
    "plt.ylabel('Chance in Flux ')\n",
    "plt.title('Flux Changes After Lowering FBP Flux')\n",
    "\n",
    "# Rotate x-axis labels for better readability\n",
    "plt.xticks(rotation=90)\n",
    "\n",
    "# Adjust layout to prevent clipping of labels\n",
    "plt.tight_layout()\n",
    "\n",
    "# Save plot \n",
    "plt.savefig('Flux_Changes_plot.png')\n",
    "\n",
    "# Show plot\n",
    "plt.show()\n"
   ]
  },
  {
   "cell_type": "code",
   "execution_count": null,
   "id": "a12c7fce-1939-4aad-b217-d10b046bfc3b",
   "metadata": {},
   "outputs": [],
   "source": []
  }
 ],
 "metadata": {
  "kernelspec": {
   "display_name": "Python 3 (ipykernel)",
   "language": "python",
   "name": "python3"
  },
  "language_info": {
   "codemirror_mode": {
    "name": "ipython",
    "version": 3
   },
   "file_extension": ".py",
   "mimetype": "text/x-python",
   "name": "python",
   "nbconvert_exporter": "python",
   "pygments_lexer": "ipython3",
   "version": "3.10.13"
  }
 },
 "nbformat": 4,
 "nbformat_minor": 5
}
